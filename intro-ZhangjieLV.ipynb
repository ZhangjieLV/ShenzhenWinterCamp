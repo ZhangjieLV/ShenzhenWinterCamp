{
 "cells": [
  {
   "cell_type": "markdown",
   "metadata": {},
   "source": [
    "# Intro to Python exercises"
   ]
  },
  {
   "cell_type": "markdown",
   "metadata": {},
   "source": [
    "These exercises extend material that was covered in today's lecture.\n",
    "\n",
    "Please save the file as `intro-YOURNAME.ipynb` in the directory `ShenzhenWinterCamp/Natasha/Homework1`\n",
    "\n",
    "When you are finished, the Jupyter notebook file should be submitted to the GitHub repository with a pull request.\n",
    "\n",
    "My email is [tashawatkins@gmail.com](mailto:tashawatkins@gmail.com) if you require any assistance or further clarification."
   ]
  },
  {
   "cell_type": "markdown",
   "metadata": {},
   "source": [
    "## Reading: Python essentials\n",
    "\n",
    "It's important that you have a solid understanding of data types and functions for later lectures.\n",
    "\n",
    "Please read QuantEcon's Python Essentials: https://lectures.quantecon.org/py/python_essentials.html\n",
    "\n",
    "Complete exercise 1 through 5 below - you may check your answers but please attempt the question before checking!"
   ]
  },
  {
   "cell_type": "markdown",
   "metadata": {},
   "source": [
    "** Exercise 1 **"
   ]
  },
  {
   "cell_type": "markdown",
   "metadata": {
    "collapsed": true
   },
   "source": [
    "Part 1: Given two numeric lists or tuples x_vals and y_vals of equal length, compute their inner product using zip()\n",
    "\n",
    "Part 2: In one line, count the number of even numbers in 0,...,99\n",
    "\n",
    "Hint: x % 2 returns 0 if x is even, 1 otherwise\n",
    "\n",
    "Part 3: Given pairs = ((2, 5), (4, 2), (9, 8), (12, 10)), count the number of pairs (a, b) such that both a and b are even"
   ]
  },
  {
   "cell_type": "code",
   "execution_count": 27,
   "metadata": {},
   "outputs": [
    {
     "name": "stdout",
     "output_type": "stream",
     "text": [
      "True\n",
      "823350\n"
     ]
    }
   ],
   "source": [
    "#Part 1 \n",
    "x = [x for x in range(100)]      # Use list expression to generate a new list\n",
    "y = [y for y in range(100,200)]\n",
    "print (len(x) == len(y))         #compare the length of two lists\n",
    "print (sum(x*y for x,y in zip(x,y))) #zip function returns [(x0,y0),(x1,y1),...,(x99,y99)]"
   ]
  },
  {
   "cell_type": "code",
   "execution_count": 31,
   "metadata": {},
   "outputs": [
    {
     "name": "stdout",
     "output_type": "stream",
     "text": [
      "50\n"
     ]
    }
   ],
   "source": [
    "# Part 2 \n",
    "print (sum([x % 2 == 0 for x in range(100)]))"
   ]
  },
  {
   "cell_type": "code",
   "execution_count": 70,
   "metadata": {},
   "outputs": [
    {
     "data": {
      "text/plain": [
       "2"
      ]
     },
     "execution_count": 70,
     "metadata": {},
     "output_type": "execute_result"
    }
   ],
   "source": [
    "# Part 3 \n",
    "pairs = ((2,5),(4,2),(9,8),(12,10))\n",
    "sum([(x%2==0 and y%2==0) for x,y in pairs]) # both x and y should be even number\n"
   ]
  },
  {
   "cell_type": "markdown",
   "metadata": {},
   "source": [
    "# ** Exercise 2 **"
   ]
  },
  {
   "cell_type": "markdown",
   "metadata": {
    "collapsed": true
   },
   "source": [
    "Consider the polynomial\n",
    "\n",
    "(1)\n",
    "\n",
    "p(x)=a0+a1x+a2x2+⋯anxn=∑i=0naixi\n",
    "Write a function p such that p(x, coeff) that computes the value in (1) given a point x and a list of coefficients coeff\n",
    "\n",
    "Try to use enumerate() in your loop"
   ]
  },
  {
   "cell_type": "code",
   "execution_count": 71,
   "metadata": {
    "collapsed": true
   },
   "outputs": [],
   "source": [
    "enumerate?"
   ]
  },
  {
   "cell_type": "code",
   "execution_count": 101,
   "metadata": {},
   "outputs": [],
   "source": [
    "#the solution 1\n",
    "import numpy as np\n",
    "def p(x,coeff):  # coeff should be a list\n",
    "    y = []\n",
    "    for i in range(len(coeff)):\n",
    "        if i == 0:\n",
    "            val = coeff[0]\n",
    "            y.append(val)\n",
    "        else:\n",
    "            val = coeff[i]* x**i \n",
    "            y.append(val)\n",
    "    return sum(y)\n"
   ]
  },
  {
   "cell_type": "code",
   "execution_count": 102,
   "metadata": {},
   "outputs": [
    {
     "data": {
      "text/plain": [
       "10"
      ]
     },
     "execution_count": 102,
     "metadata": {},
     "output_type": "execute_result"
    }
   ],
   "source": [
    "coeff = [x for x in range(5)]\n",
    "p(1,coeff)\n"
   ]
  },
  {
   "cell_type": "code",
   "execution_count": 97,
   "metadata": {
    "collapsed": true
   },
   "outputs": [],
   "source": [
    "#the solution 2\n",
    "def p(x,coeff):\n",
    "    return sum([a * x**i for i, a in enumerate(coeff)])\n",
    "    #enumerate function returns tuple like (index,coeff[index])\n"
   ]
  },
  {
   "cell_type": "code",
   "execution_count": 98,
   "metadata": {},
   "outputs": [
    {
     "data": {
      "text/plain": [
       "10"
      ]
     },
     "execution_count": 98,
     "metadata": {},
     "output_type": "execute_result"
    }
   ],
   "source": [
    "coeff = [x for x in range(5)]\n",
    "p(1,coeff)"
   ]
  },
  {
   "cell_type": "markdown",
   "metadata": {},
   "source": [
    "** Exercise 3 **"
   ]
  },
  {
   "cell_type": "code",
   "execution_count": 114,
   "metadata": {
    "collapsed": true
   },
   "outputs": [],
   "source": [
    "def count(string):#input a string\n",
    "    count = 0\n",
    "    for i in string:\n",
    "        for j in \"ABCDEFGHIJKLMNOPQRSTUVWXYZ\":\n",
    "            if i == j:#compare letters in the given string with those Cap Ones\n",
    "                count +=1\n",
    "                break #if found, break the inner loop \n",
    "    return count\n",
    "            "
   ]
  },
  {
   "cell_type": "code",
   "execution_count": 115,
   "metadata": {},
   "outputs": [
    {
     "data": {
      "text/plain": [
       "3"
      ]
     },
     "execution_count": 115,
     "metadata": {},
     "output_type": "execute_result"
    }
   ],
   "source": [
    "count('ABhJ')"
   ]
  },
  {
   "cell_type": "markdown",
   "metadata": {},
   "source": [
    "** Exercise 4 **"
   ]
  },
  {
   "cell_type": "code",
   "execution_count": 117,
   "metadata": {},
   "outputs": [],
   "source": [
    "def iselement(seq_a , seq_b):#almost the same with Ex4 the solution1\n",
    "    for i in seq_a:\n",
    "        for j in seq_b:\n",
    "            if i == j:\n",
    "                judge = True\n",
    "                break\n",
    "            else:\n",
    "                judge = False\n",
    "    return judge\n",
    "            "
   ]
  },
  {
   "cell_type": "code",
   "execution_count": 118,
   "metadata": {},
   "outputs": [
    {
     "data": {
      "text/plain": [
       "False"
      ]
     },
     "execution_count": 118,
     "metadata": {},
     "output_type": "execute_result"
    }
   ],
   "source": [
    "iselement((1,2,3),(1,2))"
   ]
  },
  {
   "cell_type": "code",
   "execution_count": 119,
   "metadata": {},
   "outputs": [
    {
     "data": {
      "text/plain": [
       "True"
      ]
     },
     "execution_count": 119,
     "metadata": {},
     "output_type": "execute_result"
    }
   ],
   "source": [
    "iselement([1,2,3],[1,2,3])"
   ]
  },
  {
   "cell_type": "markdown",
   "metadata": {},
   "source": [
    "** Exercise 5 **"
   ]
  },
  {
   "cell_type": "code",
   "execution_count": 126,
   "metadata": {},
   "outputs": [],
   "source": [
    "def linapprox(f,a,b,n,x):\n",
    "    for i in range(n):\n",
    "        if x>a+i*(b-a)/n and x<a+(i+1)*(b-a)/n:#find the interval where x lies\n",
    "            f_approx_at_x = f(a+i*(b-a)/n)*((i*(b-a)/n)/(b-a))\\\n",
    "                            +f(a+(i+1)*(b-a)/n)*(b-((i+1)*(b-a)/n+a)/(b-a))\n",
    "                #linear prediction of x \n",
    "        elif x==a+i*(b-a)/n:\n",
    "            f_approx_at_x = f(a+i*(b-a)/n)\n",
    "        elif x== a+(i+1)*(b-a)/n:\n",
    "            f_approx_at_x = f(a+(i+1)*(b-a)/n)\n",
    "    return f_approx_at_x"
   ]
  },
  {
   "cell_type": "code",
   "execution_count": 127,
   "metadata": {},
   "outputs": [
    {
     "data": {
      "text/plain": [
       "5.0"
      ]
     },
     "execution_count": 127,
     "metadata": {},
     "output_type": "execute_result"
    }
   ],
   "source": [
    "def f(m):\n",
    "    return 2*m+2\n",
    "\n",
    "linapprox(f,0,2,4,1.5)"
   ]
  },
  {
   "cell_type": "code",
   "execution_count": 121,
   "metadata": {},
   "outputs": [
    {
     "data": {
      "text/plain": [
       "3"
      ]
     },
     "execution_count": 121,
     "metadata": {},
     "output_type": "execute_result"
    }
   ],
   "source": [
    "int(3.6)"
   ]
  },
  {
   "cell_type": "markdown",
   "metadata": {},
   "source": [
    "## For loops\n",
    "\n",
    "** Exercise:** write a function `factorial` which takes an argument `n` and returns n! (the factorial of n)\n",
    "\n",
    "$$\n",
    "n! = n \\times (n - 1) \\times (n - 2) \\times \\ldots \\times 1\n",
    "$$"
   ]
  },
  {
   "cell_type": "code",
   "execution_count": 46,
   "metadata": {},
   "outputs": [],
   "source": [
    "def factorial(n):\n",
    "    if n >= 1:   #while n = 0, it is a special case, 'cause 0!=1 in Maths\n",
    "        initial = 1\n",
    "        rng = range(1,n+1) #set the range, notice the beginning is 1 now\n",
    "        for x in rng:\n",
    "            initial = initial*x #loop to calculate 1*2*...*n\n",
    "        return initial\n",
    "    else:\n",
    "        return 1"
   ]
  },
  {
   "cell_type": "code",
   "execution_count": 47,
   "metadata": {},
   "outputs": [
    {
     "name": "stdout",
     "output_type": "stream",
     "text": [
      "1\n",
      "1\n",
      "6\n"
     ]
    }
   ],
   "source": [
    "print(factorial(0))\n",
    "print(factorial(1))\n",
    "print(factorial(3))"
   ]
  },
  {
   "cell_type": "markdown",
   "metadata": {},
   "source": [
    "## While loops"
   ]
  },
  {
   "cell_type": "markdown",
   "metadata": {},
   "source": [
    "In addition to for loops, **while loops** can also be used for iteration"
   ]
  },
  {
   "cell_type": "code",
   "execution_count": 3,
   "metadata": {},
   "outputs": [
    {
     "name": "stdout",
     "output_type": "stream",
     "text": [
      "10\n",
      "9\n",
      "8\n",
      "7\n",
      "6\n",
      "5\n",
      "4\n",
      "3\n",
      "2\n"
     ]
    }
   ],
   "source": [
    "i = 10\n",
    "\n",
    "while i > 1:\n",
    "    print(i)\n",
    "    i = i - 1  # Subtract 1 from i"
   ]
  },
  {
   "cell_type": "markdown",
   "metadata": {},
   "source": [
    "** Exercise: ** Rewrite the `white_noise` function using a **while loop** instead of a **for loop**"
   ]
  },
  {
   "cell_type": "code",
   "execution_count": 52,
   "metadata": {},
   "outputs": [
    {
     "data": {
      "image/png": "[encoded data removed]",
      "text/plain": [
       "<matplotlib.figure.Figure at 0x7c0bc50>"
      ]
     },
     "metadata": {},
     "output_type": "display_data"
    }
   ],
   "source": [
    "from random import normalvariate\n",
    "import matplotlib.pyplot as plt\n",
    "\n",
    "ts_length = 100\n",
    "epsilon_values = []   # An empty list\n",
    "i = 1                  # set the initial number as 1\n",
    "while i <= 100:       # citerian of loop\n",
    "    e = normalvariate(0, 1)   # Draw epsilon from normal distribution\n",
    "    epsilon_values.append(e)  # Add random draw to list\n",
    "    i += 1                    # iterate i\n",
    "plt.plot(epsilon_values)\n",
    "plt.show()"
   ]
  },
  {
   "cell_type": "markdown",
   "metadata": {},
   "source": [
    "## Generate a time series"
   ]
  },
  {
   "cell_type": "markdown",
   "metadata": {},
   "source": [
    "Consider the following autoregressive model (AR(1) model)\n",
    "\n",
    "$$\n",
    "y_{t+1} = \\mu + \\rho y_t + \\varepsilon_t \\quad \\quad \\varepsilon_t \\sim (0, 1)\n",
    "$$\n",
    "\n",
    "Where:\n",
    "* $\\mu$ is the unconditional mean\n",
    "* $\\rho$ is the persistence parameter\n",
    "* $\\varepsilon_t$ is an i.i.d random shock\n",
    "\n",
    "** Exercise: ** Write a function called `generate_AR1` that takes `mu`, `rho` and `T` as arguments\n",
    "* `mu` and `rho` should be positional arguments\n",
    "* `T` should be a keyword argument with a default value of 200\n",
    "* Let $y_0 = 10$\n",
    "\n",
    "The function should **return** a plot of the AR(1) series\n",
    "\n",
    "Use your function to plot a time series of an AR(1) process where `mu = 5` and `rho = 0.8`"
   ]
  },
  {
   "cell_type": "code",
   "execution_count": 65,
   "metadata": {
    "collapsed": true
   },
   "outputs": [],
   "source": [
    "import random as rd\n",
    "import matplotlib.pyplot as plt\n",
    "def genearte_AR1(mu,rho,T=200):# mu and rho should be positive,rho should be less than 1 \n",
    "    iter_result = [] #create an empty list to store data\n",
    "    for i in range(T):\n",
    "        if i == 0: #the initial y, which is y0 = 10\n",
    "            y = 10\n",
    "            iter_result.append(y)\n",
    "        else:\n",
    "            e = rd.normalvariate(0,1)   # generate random number\n",
    "            y = mu + rho * iter_result[i-1] + e  #AR1 process\n",
    "            iter_result.append(y)\n",
    "    plt.plot(iter_result)  # plot the graph\n",
    "    plt.show()\n",
    "        "
   ]
  },
  {
   "cell_type": "code",
   "execution_count": 66,
   "metadata": {},
   "outputs": [
    {
     "data": {
      "image/png": "[encoded data removed]",
      "text/plain": [
       "<matplotlib.figure.Figure at 0x8359cf8>"
      ]
     },
     "metadata": {},
     "output_type": "display_data"
    }
   ],
   "source": [
    "genearte_AR1(5,0.8)"
   ]
  },
  {
   "cell_type": "markdown",
   "metadata": {},
   "source": [
    "** Exercise: ** Create an interactive plot using your `generate_AR1` function\n",
    "* `mu` should take values between 0 and 10\n",
    "* `rho` should take values between 0 and 0.99, with steps of 0.01"
   ]
  },
  {
   "cell_type": "code",
   "execution_count": 68,
   "metadata": {},
   "outputs": [
    {
     "data": {
      "application/vnd.jupyter.widget-view+json": {
       "model_id": "8cc42c291cdc4e648acdba2b276fc9c4"
      }
     },
     "metadata": {},
     "output_type": "display_data"
    },
    {
     "data": {
      "text/plain": [
       "<function __main__.genearte_AR1>"
      ]
     },
     "execution_count": 68,
     "metadata": {},
     "output_type": "execute_result"
    }
   ],
   "source": [
    "from ipywidgets import interact\n",
    "\n",
    "interact(genearte_AR1, mu=(0,10),rho=(0,0.99,0.01))"
   ]
  },
  {
   "cell_type": "code",
   "execution_count": null,
   "metadata": {
    "collapsed": true
   },
   "outputs": [],
   "source": []
  }
 ],
 "metadata": {
  "kernelspec": {
   "display_name": "Python 3",
   "language": "python",
   "name": "python3"
  },
  "language_info": {
   "codemirror_mode": {
    "name": "ipython",
    "version": 3
   },
   "file_extension": ".py",
   "mimetype": "text/x-python",
   "name": "python",
   "nbconvert_exporter": "python",
   "pygments_lexer": "ipython3",
   "version": "3.6.1"
  }
 },
 "nbformat": 4,
 "nbformat_minor": 2
}
